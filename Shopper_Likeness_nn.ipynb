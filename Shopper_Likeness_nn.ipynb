{
 "cells": [
  {
   "cell_type": "code",
   "execution_count": 1,
   "metadata": {},
   "outputs": [
    {
     "name": "stdout",
     "output_type": "stream",
     "text": [
      "                fred  ralph  jeff  jake  brian\n",
      "items                                         \n",
      "Banana             1      0     0     0      0\n",
      "Coffee             2      0     1     0      1\n",
      "Energy Drink       1      0     0     1      0\n",
      "Cup Cakes          0      1     0     0      0\n",
      "Cigarettes         0      1     0     0      0\n",
      "Wine               0      1     0     0      0\n",
      "Lighter            0      1     1     0      0\n",
      "Fountain Drink     0      0     1     0      0\n",
      "Gum                0      0     1     0      0\n",
      "Propane            0      0     1     0      0\n",
      "Candy Bar          0      0     0     1      0\n",
      "Toy Robot          0      0     0     0      1\n",
      "[[0.         3.16227766 2.64575131 2.44948974 2.        ]\n",
      " [3.16227766 0.         2.64575131 2.44948974 2.44948974]\n",
      " [2.64575131 2.64575131 0.         2.64575131 2.23606798]\n",
      " [2.44948974 2.44948974 2.64575131 0.         2.        ]\n",
      " [2.         2.44948974 2.23606798 2.         0.        ]]\n",
      "Likeness Table:\n",
      "           fred     ralph      jeff      jake     brian\n",
      "fred   1.000000  0.000000  0.163340  0.225403  0.367544\n",
      "ralph  0.000000  1.000000  0.163340  0.225403  0.225403\n",
      "jeff   0.163340  0.163340  1.000000  0.163340  0.292893\n",
      "jake   0.225403  0.225403  0.163340  1.000000  0.367544\n",
      "brian  0.367544  0.225403  0.292893  0.367544  1.000000\n"
     ]
    },
    {
     "data": {
      "text/plain": [
       "<Axes: >"
      ]
     },
     "execution_count": 1,
     "metadata": {},
     "output_type": "execute_result"
    },
    {
     "data": {
      "image/png": "[encoded data removed]",
      "text/plain": [
       "<Figure size 640x480 with 2 Axes>"
      ]
     },
     "metadata": {},
     "output_type": "display_data"
    }
   ],
   "source": [
    "import pandas as pd\n",
    "import numpy as np\n",
    "import seaborn as sns\n",
    "\n",
    "def knn(list_of_shoppers_names_string):\n",
    "    dict_of_shoppers={}\n",
    "    list_of_items=[]\n",
    "    shoppers_encoding={}\n",
    "    for shopper in list_of_shoppers_names_string:\n",
    "        dict_of_shoppers[shopper]=eval(shopper)\n",
    "        \n",
    "    shop_carts=dict_of_shoppers.values()\n",
    "    [list_of_items.extend(x) for x in shop_carts]\n",
    "    list_of_items_unique=[]\n",
    "    [list_of_items_unique.append(x) for x in list_of_items if x not in list_of_items_unique ]\n",
    "    \n",
    "    ### Encoding shopping cart items by count of item in cart for each shopper ##\n",
    "    for shopper in list_of_shoppers_names_string:\n",
    "        shoppers_encoding[shopper]=[eval(shopper).count(item) for item in list_of_items_unique]\n",
    "    shoppers_encoding['items']=list_of_items_unique\n",
    "    \n",
    "    ### Make Dataframe encoded by item ###\n",
    "    df=pd.DataFrame(shoppers_encoding)\n",
    "    df.set_index('items',inplace=True)\n",
    "    print(df)\n",
    "    \n",
    "    ### Show Euclidian Distances by creating a confusion matrix ###\n",
    "    n_shoppers=len(list_of_shoppers_names_string)\n",
    "    n_items=len(list_of_items_unique)\n",
    "    euc=np.empty(n_shoppers*n_shoppers).reshape(n_shoppers,n_shoppers)         # Create 2-D array of length of shoppers\n",
    "    for i in range(0,n_shoppers):           # Fill array with euclidian distance between each shopper\n",
    "        for j in range(0,n_shoppers):\n",
    "            eucsumsq=0\n",
    "            for k in range(0,n_items):  \n",
    "                eucsumsq=eucsumsq+(df.iloc[k,i]-df.iloc[k,j])**2 # Euclidian distance=sumsq of distance for each item\n",
    "            euc[i][j]=eucsumsq**0.5\n",
    "    print(euc)\n",
    "    \n",
    "    ### Convert Distance Matrix into Ratio Matrix ###\n",
    "    euc_ratio=euc/euc.max()\n",
    "    \n",
    "    ### Convert Ratio Matrix into Likeness Matrix ###\n",
    "    euc_likeness=1-euc_ratio\n",
    "    \n",
    "    ### Convert Likeness Matrix into Dataframe ###\n",
    "    df_likeness=pd.DataFrame(euc_likeness,columns=list_of_shoppers_names_string)\n",
    "    df_likeness.index=list_of_shoppers_names_string\n",
    "    \n",
    "    \n",
    "    return df_likeness\n",
    "    \n",
    "#### List of items for each individual ####\n",
    "fred = ['Banana', 'Coffee', 'Coffee', 'Energy Drink'] \n",
    "ralph = ['Cup Cakes', 'Cigarettes', 'Wine', 'Lighter'] \n",
    "jeff = ['Coffee', 'Fountain Drink', 'Gum', 'Lighter', 'Propane'] \n",
    "jake = ['Candy Bar', 'Energy Drink'] \n",
    "brian = ['Coffee', 'Toy Robot']\n",
    "\n",
    "#### Call function to return dataframe of likeness ####\n",
    "df=knn(['fred','ralph','jeff','jake','brian'])\n",
    "print('Likeness Table:')\n",
    "print(df)\n",
    "\n",
    "#### Plot Heatmap ####\n",
    "sns.heatmap(df)"
   ]
  },
  {
   "cell_type": "code",
   "execution_count": null,
   "metadata": {},
   "outputs": [],
   "source": []
  }
 ],
 "metadata": {
  "kernelspec": {
   "display_name": "Python 3",
   "language": "python",
   "name": "python3"
  },
  "language_info": {
   "codemirror_mode": {
    "name": "ipython",
    "version": 3
   },
   "file_extension": ".py",
   "mimetype": "text/x-python",
   "name": "python",
   "nbconvert_exporter": "python",
   "pygments_lexer": "ipython3",
   "version": "3.12.4"
  }
 },
 "nbformat": 4,
 "nbformat_minor": 4
}
