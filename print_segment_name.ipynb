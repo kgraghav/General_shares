{
 "cells": [
  {
   "cell_type": "code",
   "execution_count": 1,
   "metadata": {},
   "outputs": [
    {
     "name": "stdout",
     "output_type": "stream",
     "text": [
      "['Wallstreet', 'Gambler', 'Parents']\n",
      "['Wallstreet', 'Gambler', 'Parents']\n",
      "['Wallstreet', 'Gambler', 'Parents']\n"
     ]
    }
   ],
   "source": [
    "segments = [{'name': 'Wallstreet', 'average_spend': 82.01}, {'name': 'Gambler', 'average_spend': 107.00}, {'name': 'Parents', 'average_spend': 10.52}]\n",
    "\n",
    "### Using for loop ###\n",
    "category_list=[]\n",
    "for category in segments:\n",
    "    category_list.append(category['name'])\n",
    "print(category_list)\n",
    "\n",
    "### Using list comprehension ###\n",
    "category_list=[category['name'] for category in segments]\n",
    "print(category_list)\n",
    "\n",
    "### Using Map ###\n",
    "category_list=list(map(lambda category: category['name'],segments))\n",
    "print(category_list)"
   ]
  },
  {
   "cell_type": "code",
   "execution_count": null,
   "metadata": {},
   "outputs": [],
   "source": []
  }
 ],
 "metadata": {
  "kernelspec": {
   "display_name": "Python",
   "language": "python",
   "name": "conda-env-python-py"
  },
  "language_info": {
   "codemirror_mode": {
    "name": "ipython",
    "version": 3
   },
   "file_extension": ".py",
   "mimetype": "text/x-python",
   "name": "python",
   "nbconvert_exporter": "python",
   "pygments_lexer": "ipython3",
   "version": "3.6.11"
  }
 },
 "nbformat": 4,
 "nbformat_minor": 4
}
